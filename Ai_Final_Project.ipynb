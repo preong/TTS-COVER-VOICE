{
  "cells": [
    {
      "cell_type": "markdown",
      "metadata": {
        "id": "view-in-github",
        "colab_type": "text"
      },
      "source": [
        "<a href=\"https://colab.research.google.com/github/preong/TTS-COVER-VOICE/blob/main/Ai_Final_Project.ipynb\" target=\"_parent\"><img src=\"https://colab.research.google.com/assets/colab-badge.svg\" alt=\"Open In Colab\"/></a>"
      ]
    },
    {
      "cell_type": "markdown",
      "metadata": {
        "id": "Ch2dAwhEXZs2"
      },
      "source": [
        "## TTS & COVER-VOICE"
      ]
    },
    {
      "cell_type": "code",
      "execution_count": null,
      "metadata": {
        "id": "6LmQ6OC8gdDm"
      },
      "outputs": [],
      "source": [
        "!pip install gTTS #Text to speech\n",
        "!pip install playsound #แปรเป็นเสียง เช่น mp3"
      ]
    },
    {
      "cell_type": "code",
      "execution_count": null,
      "metadata": {
        "id": "Uqkf-EpzXr6V"
      },
      "outputs": [],
      "source": [
        "import gtts\n",
        "import playsound\n",
        "#female voice\n",
        "text = input(\"เขียนคำที่อยากได้ลงมาตรงนี้: \")\n",
        "\n",
        "sound = gtts.gTTS(text, lang=\"th\")\n",
        "\n",
        "sound.save(\"เสียงที่ทำ.mp3\") #โหลดตรงไฟล์นะ"
      ]
    },
    {
      "cell_type": "code",
      "execution_count": null,
      "metadata": {
        "id": "XoXVsnuDXyeU",
        "cellView": "form"
      },
      "outputs": [],
      "source": [
        "#@markdown #กดใช้ตัวที่ชื่อว่า Open the public URL that will appear below.\n",
        "#@markdown อย่าลืมเปลี่ยน Runtime เป็น GPU\n",
        "import os, zipfile, shutil, tarfile\n",
        "import ipywidgets as widgets\n",
        "from IPython.display import clear_output\n",
        "backup = {\n",
        "        'hubert_base.pt':'https://drive.google.com/file/d/1tHNmjoSHJj7G2xX_Knz4zZ8Mg7g-VhAW/view?usp=sharing',\n",
        "        'pretrained_v2/D40k.pth':'https://drive.google.com/file/d/1BJ3TKdn2xAK9VbV8UIDoo_9K4Yyfjs7-/view?usp=sharing -O pretrained_v2/D40k.pth',\n",
        "        'pretrained_v2/G40k.pth':'https://drive.google.com/file/d/1BJ3TKdn2xAK9VbV8UIDoo_9K4Yyfjs7-/view?usp=sharing -O pretrained_v2/G40k.pth',\n",
        "        'pretrained_v2/f0D40k.pth':'https://drive.google.com/file/d/1A33v5MT1L_-v4iP550ibl5givEqgDus1/view?usp=sharing -O pretrained_v2/f0D40k.pth',\n",
        "        'pretrained_v2/f0G40k.pth':'https://drive.google.com/file/d/1mMEOosc4FO3QRhYxIhHr-GVCxF05tjwV/view?usp=sharing -O pretrained_v2/f0G40k.pth',\n",
        "        'rmvpe.pt':'https://drive.google.com/file/d/1ABwfoHKBlUsyGIy-f_axaHM6vcXxZzQU/view?usp=drive_link'\n",
        "}\n",
        "def aria_backup(missing_file):\n",
        "  url = backup[missing_file]\n",
        "  !gdown --fuzzy $url\n",
        "gdrive=False#@param {type:\"boolean\"}\n",
        "tensorboard=True#@param {type:\"boolean\"}\n",
        "success=widgets.Button(description=\"\\u2714 Success.\",disabled=True, button_style=\"success\")\n",
        "if not \"installed\" in locals():\n",
        "  !wget https://github.com/777gt/EVC/raw/main/wav2lip-HD.tar.gz\n",
        "  !wget https://github.com/777gt/EVC/raw/main/wav2lip-cache.tar.gz\n",
        "  import tarfile, os\n",
        "  with tarfile.open('/content/wav2lip-cache.tar.gz', 'r:gz') as tar:\n",
        "    for member in tar.getmembers():\n",
        "      target_path = os.path.join('/', member.name)\n",
        "      try:\n",
        "        tar.extract(member, '/')\n",
        "      except:\n",
        "        pass\n",
        "  with tarfile.open('/content/wav2lip-HD.tar.gz') as tar:\n",
        "    tar.extractall('/content')\n",
        "  if gdrive:\n",
        "    from google.colab import drive\n",
        "    drive.mount('/content/drive')\n",
        "    if os.path.exists('/content/drive'):\n",
        "      !mkdir -p /content/drive/MyDrive/RVC_Packages\n",
        "      if not os.path.exists('/content/drive/MyDrive/RVC_Packages/Packages.tar.gz'):\n",
        "        !wget https://github.com/777gt/EVC/raw/main/Packages.tar.gz -O /content/drive/MyDrive/RVC_Packages/Packages.tar.gz\n",
        "      with tarfile.open('/content/drive/MyDrive/RVC_Packages/Packages.tar.gz', 'r:gz') as tar:\n",
        "        for member in tar.getmembers():\n",
        "          target_path = os.path.join('/', member.name)\n",
        "          tar.extract(member, '/')\n",
        "    else:\n",
        "      !wget https://github.com/777gt/EVC/raw/main/Packages.tar.gz -O /content/Packages.tar.gz\n",
        "      with tarfile.open('/content/Packages.tar.gz', 'r:gz') as tar:\n",
        "        for member in tar.getmembers():\n",
        "          target_path = os.path.join('/', member.name)\n",
        "          tar.extract(member, '/')\n",
        "  else:\n",
        "    !wget https://github.com/777gt/EVC/raw/main/Packages.tar.gz -O /content/Packages.tar.gz\n",
        "    with tarfile.open('/content/Packages.tar.gz', 'r:gz') as tar:\n",
        "      for member in tar.getmembers():\n",
        "        target_path = os.path.join('/', member.name)\n",
        "        tar.extract(member, '/')\n",
        "  !pip install -q gTTS torchcrepe\n",
        "  !pip install gradio --upgrade\n",
        "  %cd /content\n",
        "  !git clone https://github.com/777gt/-EVC-\n",
        "  %cd /content/-EVC-\n",
        "  !wget https://huggingface.co/lj1995/VoiceConversionWebUI/resolve/main/rmvpe.pt\n",
        "  !wget https://huggingface.co/lj1995/VoiceConversionWebUI/resolve/main/hubert_base.pt\n",
        "  !wget https://huggingface.co/lj1995/VoiceConversionWebUI/resolve/main/pretrained_v2/D40k.pth -O /content/-EVC-/pretrained_v2/D40k.pth\n",
        "  !wget https://huggingface.co/lj1995/VoiceConversionWebUI/resolve/main/pretrained_v2/G40k.pth -O /content/-EVC-/pretrained_v2/G40k.pth\n",
        "  !wget https://huggingface.co/lj1995/VoiceConversionWebUI/resolve/main/pretrained_v2/f0D40k.pth -O /content/-EVC-/pretrained_v2/f0D40k.pth\n",
        "  !wget https://huggingface.co/lj1995/VoiceConversionWebUI/resolve/main/pretrained_v2/f0G40k.pth -O /content/-EVC-/pretrained_v2/f0G40k.pth\n",
        "  for file in list(backup.keys()):\n",
        "    if not os.path.exists(file): aria_backup(file)\n",
        "  installed=True\n",
        "  clear_output()\n",
        "  display(success)\n",
        "if gdrive:\n",
        "  if os.path.exists('/content/drive/MyDrive/RVC'):\n",
        "    %cd /content/drive/MyDrive/RVC\n",
        "  else:\n",
        "    !mkdir -p /content/drive/MyDrive/RVC\n",
        "    %cd /content/drive/MyDrive/RVC\n",
        "  !mkdir -p /content/unzips\n",
        "  for file in os.listdir():\n",
        "    if file.endswith('.zip'):\n",
        "      file_name=file.split('.')[0]\n",
        "      zip_path = f'/content/drive/MyDrive/RVC/{file}'\n",
        "      with zipfile.ZipFile(zip_path, 'r') as zip_ref:\n",
        "        for member in zip_ref.infolist():\n",
        "          if member.filename.endswith('.pth'):\n",
        "            extraction_dir=f'/content/unzips/{file_name}'\n",
        "            file_size = member.file_size\n",
        "            if file_size < 100 * 1024 * 1024:\n",
        "              with zip_ref.open(member) as file:\n",
        "                if len(file.read()) < 100 * 1024 * 1024:\n",
        "                  zip_ref.extract(member, path=extraction_dir)\n",
        "                  !find /content/unzips/{file_name} -name '*.pth' -exec mv {{}} /content/-EVC-/weights/{file_name}.pth \\;\n",
        "          if member.filename.endswith('.index'):\n",
        "            extraction_dir=f'/content/unzips/'\n",
        "            with zip_ref.open(member) as file:\n",
        "              zip_ref.extract(member, path=extraction_dir)\n",
        "              !mkdir -p /content/-EVC-/logs/{file_name}\n",
        "              os.chdir(f\"/content/-EVC-/logs/{file_name}\")\n",
        "              !find /content/unzips -name *.index -exec mv {} . \\;\n",
        "if os.path.exists('/content/unzips'):\n",
        "  shutil.rmtree('/content/unzips')\n",
        "  pass\n",
        "if tensorboard:\n",
        "  %load_ext tensorboard\n",
        "  %tensorboard --logdir /content/-EVC-/logs\n",
        "%cd /content/-EVC-\n",
        "!mkdir -p ./audios\n",
        "!python3 GUI.py --colab --pycmd python3\n"
      ]
    },
    {
      "cell_type": "markdown",
      "metadata": {
        "id": "2olbTZnFYBYF"
      },
      "source": [
        "# ตัวนี้ผมลองทำขึ้นมาเองโดยมี พี่ไกด์ และ Chat-Gpt ช่วยทำให้มันสำเร็จ"
      ]
    },
    {
      "cell_type": "code",
      "execution_count": null,
      "metadata": {
        "id": "ZhSbau4dYE47"
      },
      "outputs": [],
      "source": [
        "!pip3 install -U scipy #ตัวโคลนเสียง #พี่ไกด์ #อย่าลืมเปลี่ยน Runtime เป็น GPU\n",
        "!git clone https://github.com/jnordberg/tortoise-tts\n",
        "%cd tortoise-tts\n",
        "!pip3 install -r requirements.txt\n",
        "!pip3 install transformers==4.19.0 einops==0.5.0 rotary_embedding_torch==0.1.5 unidecode==1.3.5\n",
        "!python3 setup.py install\n",
        "\n",
        "import torch #เป็นไลบรารีและพลังงานการคำนวณที่ใช้สำหรับการเรียนรู้เชิงลึก (deep learning)\n",
        "import torchaudio #Torchaudio จะช่วยในการโหลด、ประมวลผล และแปลงแปลงข้อมูลเสียงให้เป็นรูปแบบที่ใช้ได้กับโมเดลการเรียนรู้เชิงลึกของ PyTorch\n",
        "import torch.nn as nn\n",
        "import torch.nn.functional as F\n",
        "\n",
        "import IPython # Python's standard interactive shell\n",
        "\n",
        "from tortoise.api import TextToSpeech\n",
        "from tortoise.utils.audio import load_audio, load_voice, load_voices\n",
        "\n",
        "tts = TextToSpeech()\n",
        "\n",
        "import os #ช่วยในการดำเนินการเช่น สร้างไดเรกทอรี ลบไฟล์ อ่านเนื้อหาของไฟล์ และอื่น ๆ\n",
        "from google.colab import files #ช่วยในการอัพโหลดและดาวน์โหลดไฟล์จากและไปยังเซิร์ฟเวอร์ Colab"
      ]
    },
    {
      "cell_type": "code",
      "execution_count": null,
      "metadata": {
        "id": "KddbJao2Y4pT"
      },
      "outputs": [],
      "source": [
        "text = \"สวัดดีเจ้าพวกมนุษย์\"\n",
        "\n",
        "# Pick a \"preset mode\" to determine quality. Options: {\"ultra_fast\", \"fast\" (default), \"standard\", \"high_quality\"}. See docs in api.py\n",
        "preset = \"high_quality\"\n",
        "\n",
        "# upload 2 clips เสียง Wav ความยาวคริป 6-10\n",
        "CUSTOM_VOICE_NAME = \"custom\"\n",
        "\n",
        "custom_voice_folder = f\"tortoise/voices/{CUSTOM_VOICE_NAME}\"\n",
        "os.makedirs(custom_voice_folder)\n",
        "for i, file_data in enumerate(files.upload().values()):\n",
        "  with open(os.path.join(custom_voice_folder, f'{i}.wav'), 'wb') as f:\n",
        "    f.write(file_data)"
      ]
    },
    {
      "cell_type": "code",
      "execution_count": null,
      "metadata": {
        "id": "6x5rfQ7pY8Pq"
      },
      "outputs": [],
      "source": [
        "from glob import glob\n",
        "for file in glob('/content/tortoise-tts/tortoise/voices/custom/*'):\n",
        "  print(\"converting\", file)\n",
        "  !ffmpeg -i $file $file"
      ]
    },
    {
      "cell_type": "code",
      "execution_count": null,
      "metadata": {
        "id": "2_P7hPt7Y_5L"
      },
      "outputs": [],
      "source": [
        "# Generate speech #พี่ไกด์\n",
        "voice_samples, conditioning_latents = load_voice(CUSTOM_VOICE_NAME)\n",
        "gen = tts.tts_with_preset(text, voice_samples=voice_samples, conditioning_latents=conditioning_latents,\n",
        "                          preset=preset)\n",
        "torchaudio.save(f'generated-{CUSTOM_VOICE_NAME}.wav', gen.squeeze(0).cpu(), 24000)\n",
        "IPython.display.Audio(f'generated-{CUSTOM_VOICE_NAME}.wav')"
      ]
    }
  ],
  "metadata": {
    "colab": {
      "provenance": [],
      "authorship_tag": "ABX9TyPLjxnmTM1a9AbuDToj3gmT",
      "include_colab_link": true
    },
    "kernelspec": {
      "display_name": "Python 3",
      "name": "python3"
    },
    "language_info": {
      "name": "python"
    }
  },
  "nbformat": 4,
  "nbformat_minor": 0
}